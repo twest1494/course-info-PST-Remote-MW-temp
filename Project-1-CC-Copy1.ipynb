{
 "cells": [
  {
   "cell_type": "markdown",
   "metadata": {},
   "source": [
    "<img src=\"http://imgur.com/1ZcRyrc.png\" style=\"float: left; margin: 20px; height: 55px\">\n",
    "\n",
    "# Project 1: Python Coding Exercises\n",
    "\n",
    "_Authors: Joseph Nelson (DC) _\n",
    "\n",
    "---"
   ]
  },
  {
   "cell_type": "markdown",
   "metadata": {},
   "source": [
    "The following code challenges are drawn from common exercises used in technical interviews.\n",
    "\n",
    "Please note that there may be several ways to approach each challenge. If you get stuck, try mapping out your approach in pseudocode first. Finally, while solutions to problems like these may be found online, remember that if you copy/paste code that you can't explain, you'll be missing out on the point of the project. The only way to truly learn a new skill is through practice, trial, and error - we can only help you improve by understanding where you are having trouble."
   ]
  },
  {
   "cell_type": "markdown",
   "metadata": {},
   "source": [
    "### Challenge 1: Largest Palindrome\n",
    "A palindromic number reads the same both ways. For example, 1234321 is a palindrome. The largest palindrome made from the product of two two-digit numbers is 9009 = 91 × 99. Find the largest palindrome made from the product of two three-digit numbers. Afterward, write a brief explanation walking through your code's logic in markdown."
   ]
  },
  {
   "cell_type": "code",
   "execution_count": 28,
   "metadata": {},
   "outputs": [
    {
     "name": "stdout",
     "output_type": "stream",
     "text": [
      "906609\n"
     ]
    }
   ],
   "source": [
    "max_pal = 0\n",
    "for i in range(100,999):\n",
    "    for j in range(100,999):\n",
    "      mult = i * j \n",
    "      if str(mult) == str(mult)[::-1]: #Check if the number is Palindrome\n",
    "          if mult > max_pal: \n",
    "              max_pal = mult\n",
    "print (max_pal)"
   ]
  },
  {
   "cell_type": "markdown",
   "metadata": {},
   "source": [
    "### Challenge 1: Explanation\n",
    "\n",
    "First I initiated an empty variable called max_pal to place the max Palindrome product in after iterating through every three-digit number product combination. Then I set up two separate three-digit ranges in order to index through each possible three-digit number. Then I built a product function to multiply each three-digit integer by the other. Next I set up an if statement to check if a number is a Palindrome. Finally another if statment to get the highest three-digit Palindrome product and place it in the max_pal variable and print that result. \n"
   ]
  },
  {
   "cell_type": "markdown",
   "metadata": {},
   "source": [
    "\n",
    "### Challenge 2: Summation of Primes\n",
    "The sum of the primes below 10 is 2 + 3 + 5 + 7 = 17. Find the sum of all the primes below 2,000. Afterward, write a brief explanation walking through your code's logic in markdown."
   ]
  },
  {
   "cell_type": "code",
   "execution_count": 47,
   "metadata": {},
   "outputs": [
    {
     "name": "stdout",
     "output_type": "stream",
     "text": [
      "277050\n"
     ]
    }
   ],
   "source": [
    "def isPrime(n):\n",
    "    if n < 2: return \"Neither prime, nor composite\"\n",
    "    for i in range(2, int(n**0.5) + 1):\n",
    "        if n % i == 0:\n",
    "            return False\n",
    "    return True\n",
    "\n",
    "sum = 0\n",
    "for i in range(2, 2000):\n",
    "    if isPrime(i):\n",
    "        sum += i\n",
    "\n",
    "print(sum)"
   ]
  },
  {
   "cell_type": "markdown",
   "metadata": {},
   "source": [
    "### Challenge 2: Explanation\n",
    "\n",
    "First I defined a method 'isPrime' and limited the test range of the method from 2 up to the square root of 'n' assuming we're only testing odd numbers. Next I initialize the variable 'sum'. Next I iterate from range 2 to 2000 and apply the 'isPrime' method to each index 'i'. If the index i is a prime number, it is added to the sum variable until the iteration is over then we print the sum variable. "
   ]
  },
  {
   "cell_type": "markdown",
   "metadata": {},
   "source": [
    "### Challenge 3: Multiples of 3 and 5\n",
    "If we list all of the natural numbers below 10 that are multiples of 3 or 5, we get 3, 5, 6, and 9. The sum of these multiples is 23. Find the sum of all the multiples of 3 and 5 below 1,000. Afterward, write a brief explanation walking through your code's logic in markdown."
   ]
  },
  {
   "cell_type": "code",
   "execution_count": 56,
   "metadata": {},
   "outputs": [
    {
     "data": {
      "text/plain": [
       "233168"
      ]
     },
     "execution_count": 56,
     "metadata": {},
     "output_type": "execute_result"
    }
   ],
   "source": [
    "num = range(0, 1000)\n",
    "num_sum = []\n",
    "for i in num:\n",
    "    num_sum = sum(i for i in num\n",
    "    if i % 3 == 0 or\n",
    "    i % 5 == 0)\n",
    "num_sum"
   ]
  },
  {
   "cell_type": "markdown",
   "metadata": {},
   "source": [
    "### Challenge 3: Explanation\n",
    "\n",
    "I initiate two variables, one empty variable num_sum and another defined by range 0 to 1000. Next I do a for loop to sum all i in range num that are factors of 3 or 5. Then I place the sum of these numbers in the variable num_sum.  "
   ]
  },
  {
   "cell_type": "markdown",
   "metadata": {},
   "source": [
    "### Challenge 4: String Compressor\n",
    "Implement a method to perform basic string compression using the counts of repeated characters. (This is called run-length encoding.) For example, the string \"aabcccccaaa\" would become a2b1c5a3. If the “compressed” string would not become smaller than the original string, your method should return the original string. You can assume the string has only uppercase and lowercase letters (a–z). Specify whether your solution is case sensitive or case insensitive and what you would need to change to make it the other. Afterward, write a brief explanation walking through your code's logic in markdown."
   ]
  },
  {
   "cell_type": "code",
   "execution_count": 51,
   "metadata": {},
   "outputs": [
    {
     "data": {
      "text/plain": [
       "'a2b1c5a3'"
      ]
     },
     "execution_count": 51,
     "metadata": {},
     "output_type": "execute_result"
    }
   ],
   "source": [
    "def string_compression(input):\n",
    "  \n",
    "  if len(input) == 0:\n",
    "    return \"\"\n",
    "  \n",
    "  counter = 1\n",
    "  output = ''\n",
    "  \n",
    "  for i in range(1,len(input)):\n",
    "  \n",
    "    if input[i] == input[i-1]:\n",
    "      counter += 1\n",
    "  \n",
    "    else:\n",
    "      output += input[i-1] + str(counter)\n",
    "      counter = 1\n",
    "    \n",
    "  \n",
    "  output += input[-1] + str(counter)\n",
    "  \n",
    "  return output\n",
    "string_compression('aabcccccaaa')\n",
    "\n",
    "    "
   ]
  },
  {
   "cell_type": "markdown",
   "metadata": {},
   "source": [
    "### Challenge 4: Explanation\n",
    "\n",
    "I first defined a method 'string_compression' to go through the string \"aabcccccaaa\" and check if the previous element(input[i-1]) is equal to the current character(input[i]). If it is, we add 1 to the counter variable, if not, by default counter equals 1 at the very least so we create a variable 'output' that joins the unique character with the count of that character in a string. We then apply this method to the previously mentioned string and we get the output a2b1c5a3 "
   ]
  },
  {
   "cell_type": "markdown",
   "metadata": {},
   "source": [
    "### *BONUS* Challenge: FizzBuzz\n",
    "Write a program that prints all of the numbers from 1 to 100. For multiples of 3, instead of the number, print \"Fizz;\" for multiples of 5, print \"Buzz.\" For numbers that are multiples of both 3 and 5, print \"FizzBuzz.\" Afterward, write a brief explanation walking through your code's logic in markdown."
   ]
  },
  {
   "cell_type": "code",
   "execution_count": 32,
   "metadata": {},
   "outputs": [
    {
     "name": "stdout",
     "output_type": "stream",
     "text": [
      "0 :FizzBuzz\n",
      "1\n",
      "2\n",
      "3 :Fizz\n",
      "4\n",
      "5 :Buzz\n",
      "6 :Fizz\n",
      "7\n",
      "8\n",
      "9 :Fizz\n",
      "10 :Buzz\n",
      "11\n",
      "12 :Fizz\n",
      "13\n",
      "14\n",
      "15 :FizzBuzz\n",
      "16\n",
      "17\n",
      "18 :Fizz\n",
      "19\n",
      "20 :Buzz\n",
      "21 :Fizz\n",
      "22\n",
      "23\n",
      "24 :Fizz\n",
      "25 :Buzz\n",
      "26\n",
      "27 :Fizz\n",
      "28\n",
      "29\n",
      "30 :FizzBuzz\n",
      "31\n",
      "32\n",
      "33 :Fizz\n",
      "34\n",
      "35 :Buzz\n",
      "36 :Fizz\n",
      "37\n",
      "38\n",
      "39 :Fizz\n",
      "40 :Buzz\n",
      "41\n",
      "42 :Fizz\n",
      "43\n",
      "44\n",
      "45 :FizzBuzz\n",
      "46\n",
      "47\n",
      "48 :Fizz\n",
      "49\n",
      "50 :Buzz\n",
      "51 :Fizz\n",
      "52\n",
      "53\n",
      "54 :Fizz\n",
      "55 :Buzz\n",
      "56\n",
      "57 :Fizz\n",
      "58\n",
      "59\n",
      "60 :FizzBuzz\n",
      "61\n",
      "62\n",
      "63 :Fizz\n",
      "64\n",
      "65 :Buzz\n",
      "66 :Fizz\n",
      "67\n",
      "68\n",
      "69 :Fizz\n",
      "70 :Buzz\n",
      "71\n",
      "72 :Fizz\n",
      "73\n",
      "74\n",
      "75 :FizzBuzz\n",
      "76\n",
      "77\n",
      "78 :Fizz\n",
      "79\n",
      "80 :Buzz\n",
      "81 :Fizz\n",
      "82\n",
      "83\n",
      "84 :Fizz\n",
      "85 :Buzz\n",
      "86\n",
      "87 :Fizz\n",
      "88\n",
      "89\n",
      "90 :FizzBuzz\n",
      "91\n",
      "92\n",
      "93 :Fizz\n",
      "94\n",
      "95 :Buzz\n",
      "96 :Fizz\n",
      "97\n",
      "98\n",
      "99 :Fizz\n",
      "100 :Buzz\n"
     ]
    }
   ],
   "source": [
    "num = range(0, 101)\n",
    "\n",
    "for i in num:\n",
    "    if i % 3 == 0 and i % 5 == 0:\n",
    "        print(i, \":FizzBuzz\")\n",
    "    elif i % 5 == 0:\n",
    "        print(i, \":Buzz\")\n",
    "    elif i % 3 == 0:\n",
    "        print(i, \":Fizz\")\n",
    "    else:\n",
    "        print(i)\n",
    "   "
   ]
  },
  {
   "cell_type": "markdown",
   "metadata": {},
   "source": [
    "### *BONUS* Challenge: Explanation\n",
    "\n",
    "This scenario is relatively simple, we design a for loop that iterates from 0 to 100 and checks if i is a multiple of 3 & 5, if so it prints \"FizzBuzz\". Else if it's a multiple of 5, it prints \"Buzz\". Else if it's a multiple of 3, it prints \"Fizz\". If neither of these conditions are true, it just prints the digit. "
   ]
  }
 ],
 "metadata": {
  "anaconda-cloud": {},
  "kernelspec": {
   "display_name": "Python 3",
   "language": "python",
   "name": "python3"
  },
  "language_info": {
   "codemirror_mode": {
    "name": "ipython",
    "version": 3
   },
   "file_extension": ".py",
   "mimetype": "text/x-python",
   "name": "python",
   "nbconvert_exporter": "python",
   "pygments_lexer": "ipython3",
   "version": "3.6.1"
  }
 },
 "nbformat": 4,
 "nbformat_minor": 2
}
